{
 "cells": [
  {
   "cell_type": "markdown",
   "metadata": {},
   "source": [
    "### Trip Data Pull ###"
   ]
  },
  {
   "cell_type": "code",
   "execution_count": 124,
   "metadata": {},
   "outputs": [
    {
     "name": "stdout",
     "output_type": "stream",
     "text": [
      "3.6.4 |Anaconda, Inc.| (default, Jan 16 2018, 10:22:32) [MSC v.1900 64 bit (AMD64)]\n",
      "1.14.0\n",
      "0.22.0\n"
     ]
    }
   ],
   "source": [
    "import sys\n",
    "print(sys.version)\n",
    "import numpy as np\n",
    "print(np.__version__)\n",
    "import pandas as pd\n",
    "print(pd.__version__)"
   ]
  },
  {
   "cell_type": "code",
   "execution_count": 125,
   "metadata": {},
   "outputs": [],
   "source": [
    "# Adam Yang - import data files\n",
    "import pandas as pd\n",
    "import matplotlib.pyplot as plt\n",
    "%matplotlib inline\n",
    "import numpy as np\n",
    "import datetime\n",
    "#pd.options.display.float_format = '{:,.2f}'.format\n",
    "\n",
    "dtparser = lambda x: pd.datetime.strptime(x, \"%m/%d/%Y %H:%M:%S\")\n",
    "\n",
    "Uapr = pd.read_csv(\"./uber-raw-data-apr14.csv\", parse_dates=[\"Date/Time\"], date_parser=dtparser)\n",
    "Umay = pd.read_csv(\"./uber-raw-data-may14.csv\", parse_dates=[\"Date/Time\"], date_parser=dtparser)\n",
    "Ujun = pd.read_csv(\"./uber-raw-data-jun14.csv\", parse_dates=[\"Date/Time\"], date_parser=dtparser)\n",
    "Ujul = pd.read_csv(\"./uber-raw-data-jul14.csv\", parse_dates=[\"Date/Time\"], date_parser=dtparser)\n",
    "Uaug = pd.read_csv(\"./uber-raw-data-aug14.csv\", parse_dates=[\"Date/Time\"], date_parser=dtparser)\n",
    "Usep = pd.read_csv(\"./uber-raw-data-sep14.csv\", parse_dates=[\"Date/Time\"], date_parser=dtparser)\n",
    "\n",
    "uber_df = pd.concat([Uapr,Umay,Ujun,Ujul,Uaug,Usep])\n",
    "uber_df.columns = [\"Date_Time\", \"Lat\", \"Lon\", \"Base\"]"
   ]
  },
  {
   "cell_type": "code",
   "execution_count": 126,
   "metadata": {},
   "outputs": [],
   "source": [
    "# Adam Yang - Added Day of Week column (dow)\n",
    "uber_df[\"dow\"] = uber_df['Date_Time'].apply(lambda x: x.strftime(\"%A\"))"
   ]
  },
  {
   "cell_type": "code",
   "execution_count": 127,
   "metadata": {},
   "outputs": [
    {
     "data": {
      "text/html": [
       "<div>\n",
       "<style scoped>\n",
       "    .dataframe tbody tr th:only-of-type {\n",
       "        vertical-align: middle;\n",
       "    }\n",
       "\n",
       "    .dataframe tbody tr th {\n",
       "        vertical-align: top;\n",
       "    }\n",
       "\n",
       "    .dataframe thead th {\n",
       "        text-align: right;\n",
       "    }\n",
       "</style>\n",
       "<table border=\"1\" class=\"dataframe\">\n",
       "  <thead>\n",
       "    <tr style=\"text-align: right;\">\n",
       "      <th></th>\n",
       "      <th>Date_Time</th>\n",
       "      <th>Lat</th>\n",
       "      <th>Lon</th>\n",
       "      <th>Base</th>\n",
       "      <th>dow</th>\n",
       "    </tr>\n",
       "  </thead>\n",
       "  <tbody>\n",
       "    <tr>\n",
       "      <th>0</th>\n",
       "      <td>2014-04-01 00:11:00</td>\n",
       "      <td>40.7690</td>\n",
       "      <td>-73.9549</td>\n",
       "      <td>B02512</td>\n",
       "      <td>Tuesday</td>\n",
       "    </tr>\n",
       "    <tr>\n",
       "      <th>1</th>\n",
       "      <td>2014-04-01 00:17:00</td>\n",
       "      <td>40.7267</td>\n",
       "      <td>-74.0345</td>\n",
       "      <td>B02512</td>\n",
       "      <td>Tuesday</td>\n",
       "    </tr>\n",
       "    <tr>\n",
       "      <th>2</th>\n",
       "      <td>2014-04-01 00:21:00</td>\n",
       "      <td>40.7316</td>\n",
       "      <td>-73.9873</td>\n",
       "      <td>B02512</td>\n",
       "      <td>Tuesday</td>\n",
       "    </tr>\n",
       "    <tr>\n",
       "      <th>3</th>\n",
       "      <td>2014-04-01 00:28:00</td>\n",
       "      <td>40.7588</td>\n",
       "      <td>-73.9776</td>\n",
       "      <td>B02512</td>\n",
       "      <td>Tuesday</td>\n",
       "    </tr>\n",
       "    <tr>\n",
       "      <th>4</th>\n",
       "      <td>2014-04-01 00:33:00</td>\n",
       "      <td>40.7594</td>\n",
       "      <td>-73.9722</td>\n",
       "      <td>B02512</td>\n",
       "      <td>Tuesday</td>\n",
       "    </tr>\n",
       "  </tbody>\n",
       "</table>\n",
       "</div>"
      ],
      "text/plain": [
       "            Date_Time      Lat      Lon    Base      dow\n",
       "0 2014-04-01 00:11:00  40.7690 -73.9549  B02512  Tuesday\n",
       "1 2014-04-01 00:17:00  40.7267 -74.0345  B02512  Tuesday\n",
       "2 2014-04-01 00:21:00  40.7316 -73.9873  B02512  Tuesday\n",
       "3 2014-04-01 00:28:00  40.7588 -73.9776  B02512  Tuesday\n",
       "4 2014-04-01 00:33:00  40.7594 -73.9722  B02512  Tuesday"
      ]
     },
     "execution_count": 127,
     "metadata": {},
     "output_type": "execute_result"
    }
   ],
   "source": [
    "uber_df.head()"
   ]
  },
  {
   "cell_type": "code",
   "execution_count": 128,
   "metadata": {},
   "outputs": [
    {
     "name": "stdout",
     "output_type": "stream",
     "text": [
      "Date_Time    datetime64[ns]\n",
      "Lat                 float64\n",
      "Lon                 float64\n",
      "Base                 object\n",
      "dow                  object\n",
      "dtype: object\n",
      "                Lat           Lon\n",
      "count  4.534327e+06  4.534327e+06\n",
      "mean   4.073926e+01 -7.397302e+01\n",
      "std    3.994991e-02  5.726670e-02\n",
      "min    3.965690e+01 -7.492900e+01\n",
      "25%    4.072110e+01 -7.399650e+01\n",
      "50%    4.074220e+01 -7.398340e+01\n",
      "75%    4.076100e+01 -7.396530e+01\n",
      "max    4.211660e+01 -7.206660e+01\n"
     ]
    },
    {
     "data": {
      "text/plain": [
       "B02617    1458853\n",
       "B02598    1393113\n",
       "B02682    1212789\n",
       "B02764     263899\n",
       "B02512     205673\n",
       "Name: Base, dtype: int64"
      ]
     },
     "execution_count": 128,
     "metadata": {},
     "output_type": "execute_result"
    }
   ],
   "source": [
    "#Alla Hale\n",
    "print(uber_df.dtypes)\n",
    "print(uber_df.describe())\n",
    "\n",
    "uber_df.Base.value_counts()\n"
   ]
  },
  {
   "cell_type": "code",
   "execution_count": null,
   "metadata": {},
   "outputs": [],
   "source": []
  },
  {
   "cell_type": "markdown",
   "metadata": {},
   "source": [
    "### Weather Data Pull ###"
   ]
  },
  {
   "cell_type": "code",
   "execution_count": 129,
   "metadata": {},
   "outputs": [],
   "source": [
    "#convert the celcius \n",
    "\n",
    "#pull in weather description\n",
    "weather_df = pd.read_csv(\"./weather_description.csv\", parse_dates=[\"datetime\"])\n",
    "weather_df = weather_df[[\"datetime\",\"New York\"]]\n",
    "weather_df.columns = [\"date_time\", \"weather_description\"]\n",
    "\n",
    "#pull in temperature data\n",
    "temp_df = pd.read_csv(\"./temperature.csv\", parse_dates=[\"datetime\"])\n",
    "temp_df = temp_df[[\"datetime\", \"New York\"]]\n",
    "temp_df.columns = [\"date_time\", \"temperature\"]\n",
    "\n",
    "#convert kelvin to celcius\n",
    "temp_df[\"temperature\"] = temp_df[\"temperature\"]-273.15\n",
    "\n",
    "#pull in humidity data\n",
    "humid_df = pd.read_csv(\"./humidity.csv\", parse_dates=[\"datetime\"])\n",
    "humid_df = humid_df[[\"datetime\", \"New York\"]]\n",
    "humid_df.columns = [\"date_time\", \"humidity\"]\n",
    "\n",
    "#join all weather data together\n",
    "weather_df = weather_df.set_index(\"date_time\").join(temp_df.set_index(\"date_time\"))\n",
    "weather_df = weather_df.join(humid_df.set_index(\"date_time\"))"
   ]
  },
  {
   "cell_type": "code",
   "execution_count": 130,
   "metadata": {},
   "outputs": [
    {
     "data": {
      "text/html": [
       "<div>\n",
       "<style scoped>\n",
       "    .dataframe tbody tr th:only-of-type {\n",
       "        vertical-align: middle;\n",
       "    }\n",
       "\n",
       "    .dataframe tbody tr th {\n",
       "        vertical-align: top;\n",
       "    }\n",
       "\n",
       "    .dataframe thead th {\n",
       "        text-align: right;\n",
       "    }\n",
       "</style>\n",
       "<table border=\"1\" class=\"dataframe\">\n",
       "  <thead>\n",
       "    <tr style=\"text-align: right;\">\n",
       "      <th></th>\n",
       "      <th>weather_description</th>\n",
       "      <th>temperature</th>\n",
       "      <th>humidity</th>\n",
       "    </tr>\n",
       "    <tr>\n",
       "      <th>date_time</th>\n",
       "      <th></th>\n",
       "      <th></th>\n",
       "      <th></th>\n",
       "    </tr>\n",
       "  </thead>\n",
       "  <tbody>\n",
       "    <tr>\n",
       "      <th>2012-10-01 12:00:00</th>\n",
       "      <td>NaN</td>\n",
       "      <td>NaN</td>\n",
       "      <td>NaN</td>\n",
       "    </tr>\n",
       "    <tr>\n",
       "      <th>2012-10-01 13:00:00</th>\n",
       "      <td>few clouds</td>\n",
       "      <td>15.070000</td>\n",
       "      <td>58.0</td>\n",
       "    </tr>\n",
       "    <tr>\n",
       "      <th>2012-10-01 14:00:00</th>\n",
       "      <td>few clouds</td>\n",
       "      <td>15.097676</td>\n",
       "      <td>57.0</td>\n",
       "    </tr>\n",
       "    <tr>\n",
       "      <th>2012-10-01 15:00:00</th>\n",
       "      <td>few clouds</td>\n",
       "      <td>15.176940</td>\n",
       "      <td>57.0</td>\n",
       "    </tr>\n",
       "    <tr>\n",
       "      <th>2012-10-01 16:00:00</th>\n",
       "      <td>few clouds</td>\n",
       "      <td>15.256203</td>\n",
       "      <td>57.0</td>\n",
       "    </tr>\n",
       "  </tbody>\n",
       "</table>\n",
       "</div>"
      ],
      "text/plain": [
       "                    weather_description  temperature  humidity\n",
       "date_time                                                     \n",
       "2012-10-01 12:00:00                 NaN          NaN       NaN\n",
       "2012-10-01 13:00:00          few clouds    15.070000      58.0\n",
       "2012-10-01 14:00:00          few clouds    15.097676      57.0\n",
       "2012-10-01 15:00:00          few clouds    15.176940      57.0\n",
       "2012-10-01 16:00:00          few clouds    15.256203      57.0"
      ]
     },
     "execution_count": 130,
     "metadata": {},
     "output_type": "execute_result"
    }
   ],
   "source": [
    "weather_df.head()"
   ]
  },
  {
   "cell_type": "markdown",
   "metadata": {},
   "source": [
    "### Uber and Weather DataFrame Merge ###"
   ]
  },
  {
   "cell_type": "code",
   "execution_count": 131,
   "metadata": {},
   "outputs": [],
   "source": [
    "#change column names for uber_df\n",
    "uber_df.columns = [\"date_time\", \"lat\", \"lon\", \"base\", \"dow\"]\n",
    "\n",
    "#add column date_time that is rounded to hour\n",
    "uber_df[\"date_time_h\"] = uber_df[\"date_time\"].dt.floor(\"h\")\n",
    "\n",
    "#merge the two tables together\n",
    "uber_df = uber_df.set_index(\"date_time_h\").join(weather_df)\n",
    "\n",
    "#reset index\n",
    "uber_df.reset_index(drop=True, inplace=True)"
   ]
  },
  {
   "cell_type": "code",
   "execution_count": 132,
   "metadata": {},
   "outputs": [
    {
     "data": {
      "text/html": [
       "<div>\n",
       "<style scoped>\n",
       "    .dataframe tbody tr th:only-of-type {\n",
       "        vertical-align: middle;\n",
       "    }\n",
       "\n",
       "    .dataframe tbody tr th {\n",
       "        vertical-align: top;\n",
       "    }\n",
       "\n",
       "    .dataframe thead th {\n",
       "        text-align: right;\n",
       "    }\n",
       "</style>\n",
       "<table border=\"1\" class=\"dataframe\">\n",
       "  <thead>\n",
       "    <tr style=\"text-align: right;\">\n",
       "      <th></th>\n",
       "      <th>date_time</th>\n",
       "      <th>lat</th>\n",
       "      <th>lon</th>\n",
       "      <th>base</th>\n",
       "      <th>dow</th>\n",
       "      <th>weather_description</th>\n",
       "      <th>temperature</th>\n",
       "      <th>humidity</th>\n",
       "    </tr>\n",
       "  </thead>\n",
       "  <tbody>\n",
       "    <tr>\n",
       "      <th>0</th>\n",
       "      <td>2014-04-01 00:11:00</td>\n",
       "      <td>40.7690</td>\n",
       "      <td>-73.9549</td>\n",
       "      <td>B02512</td>\n",
       "      <td>Tuesday</td>\n",
       "      <td>scattered clouds</td>\n",
       "      <td>9.81</td>\n",
       "      <td>40.0</td>\n",
       "    </tr>\n",
       "    <tr>\n",
       "      <th>1</th>\n",
       "      <td>2014-04-01 00:17:00</td>\n",
       "      <td>40.7267</td>\n",
       "      <td>-74.0345</td>\n",
       "      <td>B02512</td>\n",
       "      <td>Tuesday</td>\n",
       "      <td>scattered clouds</td>\n",
       "      <td>9.81</td>\n",
       "      <td>40.0</td>\n",
       "    </tr>\n",
       "    <tr>\n",
       "      <th>2</th>\n",
       "      <td>2014-04-01 00:21:00</td>\n",
       "      <td>40.7316</td>\n",
       "      <td>-73.9873</td>\n",
       "      <td>B02512</td>\n",
       "      <td>Tuesday</td>\n",
       "      <td>scattered clouds</td>\n",
       "      <td>9.81</td>\n",
       "      <td>40.0</td>\n",
       "    </tr>\n",
       "    <tr>\n",
       "      <th>3</th>\n",
       "      <td>2014-04-01 00:28:00</td>\n",
       "      <td>40.7588</td>\n",
       "      <td>-73.9776</td>\n",
       "      <td>B02512</td>\n",
       "      <td>Tuesday</td>\n",
       "      <td>scattered clouds</td>\n",
       "      <td>9.81</td>\n",
       "      <td>40.0</td>\n",
       "    </tr>\n",
       "    <tr>\n",
       "      <th>4</th>\n",
       "      <td>2014-04-01 00:33:00</td>\n",
       "      <td>40.7594</td>\n",
       "      <td>-73.9722</td>\n",
       "      <td>B02512</td>\n",
       "      <td>Tuesday</td>\n",
       "      <td>scattered clouds</td>\n",
       "      <td>9.81</td>\n",
       "      <td>40.0</td>\n",
       "    </tr>\n",
       "  </tbody>\n",
       "</table>\n",
       "</div>"
      ],
      "text/plain": [
       "            date_time      lat      lon    base      dow weather_description  \\\n",
       "0 2014-04-01 00:11:00  40.7690 -73.9549  B02512  Tuesday    scattered clouds   \n",
       "1 2014-04-01 00:17:00  40.7267 -74.0345  B02512  Tuesday    scattered clouds   \n",
       "2 2014-04-01 00:21:00  40.7316 -73.9873  B02512  Tuesday    scattered clouds   \n",
       "3 2014-04-01 00:28:00  40.7588 -73.9776  B02512  Tuesday    scattered clouds   \n",
       "4 2014-04-01 00:33:00  40.7594 -73.9722  B02512  Tuesday    scattered clouds   \n",
       "\n",
       "   temperature  humidity  \n",
       "0         9.81      40.0  \n",
       "1         9.81      40.0  \n",
       "2         9.81      40.0  \n",
       "3         9.81      40.0  \n",
       "4         9.81      40.0  "
      ]
     },
     "execution_count": 132,
     "metadata": {},
     "output_type": "execute_result"
    }
   ],
   "source": [
    "uber_df.head()"
   ]
  },
  {
   "cell_type": "markdown",
   "metadata": {
    "collapsed": true
   },
   "source": [
    "### Alla's Section ###"
   ]
  },
  {
   "cell_type": "code",
   "execution_count": null,
   "metadata": {},
   "outputs": [],
   "source": []
  },
  {
   "cell_type": "markdown",
   "metadata": {},
   "source": [
    "### Adam's Section ###"
   ]
  },
  {
   "cell_type": "code",
   "execution_count": null,
   "metadata": {},
   "outputs": [],
   "source": []
  },
  {
   "cell_type": "markdown",
   "metadata": {},
   "source": [
    "### Armand's Section ###"
   ]
  },
  {
   "cell_type": "code",
   "execution_count": null,
   "metadata": {},
   "outputs": [],
   "source": [
    "# Adam Yang - test block"
   ]
  }
 ],
 "metadata": {
  "kernelspec": {
   "display_name": "Python 3",
   "language": "python",
   "name": "python3"
  },
  "language_info": {
   "codemirror_mode": {
    "name": "ipython",
    "version": 3
   },
   "file_extension": ".py",
   "mimetype": "text/x-python",
   "name": "python",
   "nbconvert_exporter": "python",
   "pygments_lexer": "ipython3",
   "version": "3.6.4"
  }
 },
 "nbformat": 4,
 "nbformat_minor": 2
}